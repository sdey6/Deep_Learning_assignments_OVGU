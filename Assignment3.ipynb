{
  "nbformat": 4,
  "nbformat_minor": 0,
  "metadata": {
    "accelerator": "GPU",
    "colab": {
      "name": "assaignment",
      "provenance": [],
      "collapsed_sections": []
    },
    "kernelspec": {
      "display_name": "Python 3",
      "name": "python3"
    },
    "language_info": {
      "name": "python"
    }
  },
  "cells": [
    {
      "cell_type": "code",
      "metadata": {
        "id": "YzJbYyeAP5bA"
      },
      "source": [
        "import numpy as np\n",
        "import tensorflow as tf\n",
        "import matplotlib.pyplot as plt"
      ],
      "execution_count": null,
      "outputs": []
    },
    {
      "cell_type": "code",
      "metadata": {
        "colab": {
          "base_uri": "https://localhost:8080/",
          "height": 333
        },
        "id": "7yiE1LHBQiV6",
        "outputId": "3af5e87a-e7a9-40de-8b38-1564f298a07a"
      },
      "source": [
        "## Dataset\n",
        "mnist = tf.keras.datasets.mnist\n",
        "(train_images, train_labels), (test_images, test_labels) = mnist.load_data()\n",
        "print(train_labels[0])\n",
        "plt.imshow(train_images[0], cmap=\"Greys_r\")\n",
        "\n",
        "train_images = train_images.reshape([-1, 28, 28, 1]).astype(np.float32)/255.0\n",
        "train_labels = train_labels.astype(np.int32)\n",
        "test_images = test_images.reshape([-1, 28, 28, 1]).astype(np.float32)/255.0\n",
        "test_labels = test_labels.astype(np.int32)"
      ],
      "execution_count": null,
      "outputs": [
        {
          "name": "stdout",
          "output_type": "stream",
          "text": [
            "Downloading data from https://storage.googleapis.com/tensorflow/tf-keras-datasets/mnist.npz\n",
            "11493376/11490434 [==============================] - 0s 0us/step\n",
            "11501568/11490434 [==============================] - 0s 0us/step\n",
            "5\n"
          ]
        },
        {
          "data": {
            "image/png": "[encoded data removed]",
            "text/plain": [
              "<Figure size 432x288 with 1 Axes>"
            ]
          },
          "metadata": {},
          "output_type": "display_data"
        }
      ]
    },
    {
      "cell_type": "code",
      "metadata": {
        "colab": {
          "base_uri": "https://localhost:8080/"
        },
        "id": "hYhCAQPYWcYn",
        "outputId": "bc3ec73e-b09f-42eb-8b23-f439cd8ea937"
      },
      "source": [
        "train_images.shape"
      ],
      "execution_count": null,
      "outputs": [
        {
          "data": {
            "text/plain": [
              "(60000, 28, 28, 1)"
            ]
          },
          "execution_count": 4,
          "metadata": {},
          "output_type": "execute_result"
        }
      ]
    },
    {
      "cell_type": "code",
      "metadata": {
        "colab": {
          "background_save": true,
          "base_uri": "https://localhost:8080/"
        },
        "id": "If2TCud2RH6r",
        "outputId": "e93199f3-f54a-440a-dff7-4c4c2b4e58b8"
      },
      "source": [
        "## Model\n",
        "inputs = (28, 28, 1)\n",
        "layer_list = [tf.keras.layers.Conv2D(filters=32, kernel_size=(3,3), padding='same', activation='relu', input_shape = inputs),\n",
        "                  tf.keras.layers.MaxPooling2D(2,2),\n",
        "                  tf.keras.layers.Conv2D(filters=64, kernel_size=(3,3), padding='same', activation='relu'),\n",
        "                  tf.keras.layers.MaxPooling2D(2,2),\n",
        "                  tf.keras.layers.Conv2D(filters=128, kernel_size=(3,3), padding='same', activation='relu'),\n",
        "                  tf.keras.layers.MaxPooling2D(2,2),\n",
        "                  tf.keras.layers.Flatten(),\n",
        "                  tf.keras.layers.Dense(10, activation = tf.nn.softmax)] \n",
        "model = tf.keras.Sequential(layer_list)\n",
        "model.summary()\n",
        "model.compile(optimizer=\"adam\",\n",
        "                loss=\"sparse_categorical_crossentropy\",\n",
        "                metrics=[\"accuracy\"])\n",
        "\n",
        "model.fit(train_images,train_labels,epochs=5)\n",
        "test_loss, test_acc = model.evaluate(test_images,test_labels)\n",
        "\n",
        "print(\"Test Loss: {0} - Test Acc: {1}\".format(test_loss, test_acc))"
      ],
      "execution_count": null,
      "outputs": [
        {
          "name": "stdout",
          "output_type": "stream",
          "text": [
            "Model: \"sequential\"\n",
            "_________________________________________________________________\n",
            "Layer (type)                 Output Shape              Param #   \n",
            "=================================================================\n",
            "conv2d (Conv2D)              (None, 28, 28, 32)        320       \n",
            "_________________________________________________________________\n",
            "max_pooling2d (MaxPooling2D) (None, 14, 14, 32)        0         \n",
            "_________________________________________________________________\n",
            "conv2d_1 (Conv2D)            (None, 14, 14, 64)        18496     \n",
            "_________________________________________________________________\n",
            "max_pooling2d_1 (MaxPooling2 (None, 7, 7, 64)          0         \n",
            "_________________________________________________________________\n",
            "conv2d_2 (Conv2D)            (None, 7, 7, 128)         73856     \n",
            "_________________________________________________________________\n",
            "max_pooling2d_2 (MaxPooling2 (None, 3, 3, 128)         0         \n",
            "_________________________________________________________________\n",
            "flatten (Flatten)            (None, 1152)              0         \n",
            "_________________________________________________________________\n",
            "dense (Dense)                (None, 10)                11530     \n",
            "=================================================================\n",
            "Total params: 104,202\n",
            "Trainable params: 104,202\n",
            "Non-trainable params: 0\n",
            "_________________________________________________________________\n",
            "Epoch 1/5\n",
            "1875/1875 [==============================] - 114s 61ms/step - loss: 0.1271 - accuracy: 0.9598\n",
            "Epoch 2/5\n",
            "1875/1875 [==============================] - 112s 60ms/step - loss: 0.0406 - accuracy: 0.9873\n",
            "Epoch 3/5\n",
            "1875/1875 [==============================] - 109s 58ms/step - loss: 0.0273 - accuracy: 0.9915\n",
            "Epoch 4/5\n",
            "1875/1875 [==============================] - 109s 58ms/step - loss: 0.0203 - accuracy: 0.9934\n",
            "Epoch 5/5\n",
            "1875/1875 [==============================] - 107s 57ms/step - loss: 0.0160 - accuracy: 0.9949\n",
            "313/313 [==============================] - 5s 16ms/step - loss: 0.0281 - accuracy: 0.9918\n",
            "Test Loss: 0.028148578479886055 - Test Acc: 0.9918000102043152\n"
          ]
        }
      ]
    },
    {
      "cell_type": "markdown",
      "metadata": {
        "id": "-2c6GAzTfbX7"
      },
      "source": [
        "CIFAR-10\n"
      ]
    },
    {
      "cell_type": "code",
      "metadata": {
        "colab": {
          "background_save": true
        },
        "id": "SFIbUCBBRNna",
        "outputId": "db7d93ce-8c4f-4a43-9956-bb9b8f442b98"
      },
      "source": [
        "cifar = tf.keras.datasets.cifar10\n",
        "(train_images, train_labels), (test_images, test_labels) = cifar.load_data()\n",
        "print(train_labels[0])\n",
        "plt.imshow(train_images[0], cmap=\"Greys_r\")\n",
        "\n",
        "train_images = train_images.reshape([-1, 32, 32, 3]).astype(np.float32)/255.0\n",
        "train_labels = train_labels.astype(np.int32)\n",
        "test_images = test_images.reshape([-1, 32, 32, 3]).astype(np.float32)/255.0\n",
        "test_labels = test_labels.astype(np.int32)\n"
      ],
      "execution_count": null,
      "outputs": [
        {
          "name": "stdout",
          "output_type": "stream",
          "text": [
            "Downloading data from https://www.cs.toronto.edu/~kriz/cifar-10-python.tar.gz\n",
            "170500096/170498071 [==============================] - 3s 0us/step\n",
            "170508288/170498071 [==============================] - 3s 0us/step\n",
            "[6]\n"
          ]
        },
        {
          "data": {
            "image/png": "[encoded data removed]",
            "text/plain": [
              "<Figure size 432x288 with 1 Axes>"
            ]
          },
          "metadata": {},
          "output_type": "display_data"
        }
      ]
    },
    {
      "cell_type": "code",
      "metadata": {
        "colab": {
          "background_save": true
        },
        "id": "qZcBX9Y9fnHZ",
        "outputId": "321e0388-2710-4e99-e625-0708d4db425d"
      },
      "source": [
        "test_images.shape"
      ],
      "execution_count": null,
      "outputs": [
        {
          "data": {
            "text/plain": [
              "(10000, 32, 32, 3)"
            ]
          },
          "execution_count": null,
          "metadata": {},
          "output_type": "execute_result"
        }
      ]
    },
    {
      "cell_type": "code",
      "metadata": {
        "colab": {
          "background_save": true
        },
        "id": "0JAUGvFohHs8",
        "outputId": "01bdf140-7ada-4f67-e01f-93d435f935c5"
      },
      "source": [
        "## Model\n",
        "inputs = (32, 32, 3)\n",
        "layer_list = [tf.keras.layers.Conv2D(filters=32, kernel_size=(3,3), padding='same', activation='relu', input_shape = inputs),\n",
        "                  tf.keras.layers.MaxPooling2D(2,2),\n",
        "                  tf.keras.layers.Conv2D(filters=64, kernel_size=(3,3), padding='same', activation='relu'),\n",
        "                  tf.keras.layers.MaxPooling2D(2,2),\n",
        "                  tf.keras.layers.Conv2D(filters=128, kernel_size=(3,3), padding='same', activation='relu'),\n",
        "                  tf.keras.layers.MaxPooling2D(2,2),\n",
        "                  tf.keras.layers.Flatten(),\n",
        "                  tf.keras.layers.Dense(10, activation = tf.nn.softmax)] \n",
        "model = tf.keras.Sequential(layer_list)\n",
        "\n",
        "model.summary()\n",
        "model.compile(optimizer=\"adam\",\n",
        "                loss=\"sparse_categorical_crossentropy\",\n",
        "                metrics=[\"accuracy\"])\n",
        "\n",
        "model.fit(train_images,train_labels,epochs=10)\n",
        "test_loss, test_acc = model.evaluate(test_images,test_labels)\n",
        "print(\"Test Loss: {0} - Test Acc: {1}\".format(test_loss, test_acc))"
      ],
      "execution_count": null,
      "outputs": [
        {
          "name": "stdout",
          "output_type": "stream",
          "text": [
            "Model: \"sequential_1\"\n",
            "_________________________________________________________________\n",
            "Layer (type)                 Output Shape              Param #   \n",
            "=================================================================\n",
            "conv2d_3 (Conv2D)            (None, 32, 32, 32)        896       \n",
            "_________________________________________________________________\n",
            "max_pooling2d_3 (MaxPooling2 (None, 16, 16, 32)        0         \n",
            "_________________________________________________________________\n",
            "conv2d_4 (Conv2D)            (None, 16, 16, 64)        18496     \n",
            "_________________________________________________________________\n",
            "max_pooling2d_4 (MaxPooling2 (None, 8, 8, 64)          0         \n",
            "_________________________________________________________________\n",
            "conv2d_5 (Conv2D)            (None, 8, 8, 128)         73856     \n",
            "_________________________________________________________________\n",
            "max_pooling2d_5 (MaxPooling2 (None, 4, 4, 128)         0         \n",
            "_________________________________________________________________\n",
            "flatten_1 (Flatten)          (None, 2048)              0         \n",
            "_________________________________________________________________\n",
            "dense_1 (Dense)              (None, 10)                20490     \n",
            "=================================================================\n",
            "Total params: 113,738\n",
            "Trainable params: 113,738\n",
            "Non-trainable params: 0\n",
            "_________________________________________________________________\n",
            "Epoch 1/10\n",
            "1563/1563 [==============================] - 120s 77ms/step - loss: 1.4094 - accuracy: 0.4950\n",
            "Epoch 2/10\n",
            "1563/1563 [==============================] - 118s 75ms/step - loss: 0.9969 - accuracy: 0.6536\n",
            "Epoch 3/10\n",
            "1563/1563 [==============================] - 117s 75ms/step - loss: 0.8397 - accuracy: 0.7108\n",
            "Epoch 4/10\n",
            "1563/1563 [==============================] - 118s 75ms/step - loss: 0.7409 - accuracy: 0.7438\n",
            "Epoch 5/10\n",
            "1563/1563 [==============================] - 118s 75ms/step - loss: 0.6586 - accuracy: 0.7715\n",
            "Epoch 6/10\n",
            "1563/1563 [==============================] - 117s 75ms/step - loss: 0.5929 - accuracy: 0.7969\n",
            "Epoch 7/10\n",
            "1563/1563 [==============================] - 117s 75ms/step - loss: 0.5325 - accuracy: 0.8142\n",
            "Epoch 8/10\n",
            "1563/1563 [==============================] - 119s 76ms/step - loss: 0.4818 - accuracy: 0.8320\n",
            "Epoch 9/10\n",
            "1563/1563 [==============================] - 117s 75ms/step - loss: 0.4341 - accuracy: 0.8486\n",
            "Epoch 10/10\n",
            "1563/1563 [==============================] - 119s 76ms/step - loss: 0.3877 - accuracy: 0.8650\n",
            "313/313 [==============================] - 7s 22ms/step - loss: 0.9596 - accuracy: 0.7277\n",
            "Test Loss: 0.9595502018928528 - Test Acc: 0.7276999950408936\n"
          ]
        }
      ]
    },
    {
      "cell_type": "code",
      "metadata": {
        "colab": {
          "background_save": true
        },
        "id": "OB7DBH5Ch4bN"
      },
      "source": [
        ""
      ],
      "execution_count": null,
      "outputs": []
    }
  ]
}